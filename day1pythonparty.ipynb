{
  "nbformat": 4,
  "nbformat_minor": 0,
  "metadata": {
    "colab": {
      "provenance": [],
      "authorship_tag": "ABX9TyPnJSUn3J/iQA3jQpw0RXv4",
      "include_colab_link": true
    },
    "kernelspec": {
      "name": "python3",
      "display_name": "Python 3"
    },
    "language_info": {
      "name": "python"
    }
  },
  "cells": [
    {
      "cell_type": "markdown",
      "metadata": {
        "id": "view-in-github",
        "colab_type": "text"
      },
      "source": [
        "<a href=\"https://colab.research.google.com/github/jackieclayton1/python_party_summer_2025/blob/main/day1pythonparty.ipynb\" target=\"_parent\"><img src=\"https://colab.research.google.com/assets/colab-badge.svg\" alt=\"Open In Colab\"/></a>"
      ]
    },
    {
      "cell_type": "markdown",
      "source": [
        "**Question One - WhatsApp (Easy)**\n",
        "\n",
        "`Question` - What is the maximum number of participants among WhatsApp groups that were created in October 2024? This metric will help us understand the largest group size available.\n",
        "\n",
        "`Table` - **dim_groups**(group_id, created_date, participant_count, total_messages)\n",
        "\n",
        "`Result` - the maximum number of participants is 100"
      ],
      "metadata": {
        "id": "7guInhB6M43E"
      }
    },
    {
      "cell_type": "code",
      "execution_count": null,
      "metadata": {
        "id": "xYgI4Vt0MjAT"
      },
      "outputs": [],
      "source": [
        "# created dataframe\n",
        "df = pd.DataFrame(dim_groups)\n",
        "\n",
        "# ensured date column was in datetime format\n",
        "df['created_date'] = pd.to_datetime(df['created_date'])\n",
        "\n",
        "# filtered dataframe to account for groups created in only October 2024\n",
        "oct24group = df[\n",
        "    (df['created_date'].dt.year == 2024) &\n",
        "    (df['created_date'].dt.month == 10)]\n",
        "\n",
        "# found the largest amount of participants in whatsapp groups created in October 2024\n",
        "maxparticipants = oct24group['participant_count'].max()\n",
        "\n",
        "print(maxparticipants)"
      ]
    },
    {
      "cell_type": "markdown",
      "source": [
        "**Business Impact**\n",
        "\n",
        "The largest group that matched all of the provided requirements was 100 members. However, in October 2024, the member cap was 512. This trend implies that the lack of demand for or knowledge about large groups is low.\n",
        "\n",
        "An actionable recommendation based on this data is for marketing focused on awareness regarding the max group size, targeted towards new groups.\n",
        "\n",
        "Another recommendation is to focus on making it easier to grow existing groups by improving on group discovery features."
      ],
      "metadata": {
        "id": "zel4BSeIp_8A"
      }
    },
    {
      "cell_type": "markdown",
      "source": [
        "\n",
        "\n",
        "---\n",
        "\n"
      ],
      "metadata": {
        "id": "8rxuUbAOtw5z"
      }
    },
    {
      "cell_type": "markdown",
      "source": [
        "**Question Two - WhatsApp (Easy)**\n",
        "\n",
        "`Question` - What is the average number of participants in WhatsApp groups that were created in October 2024? This number will indicate the typical group size and inform our group messaging feature considerations.\n",
        "\n",
        "`Table` - **dim_groups**(group_id, created_date, participant_count, total_messages)\n",
        "\n",
        "`Result` - the average number of participants is 58.75"
      ],
      "metadata": {
        "id": "WwsXW7PBZBa_"
      }
    },
    {
      "cell_type": "code",
      "source": [
        "# created dataframe\n",
        "df = pd.DataFrame(dim_groups)\n",
        "\n",
        "# ensured date column was in datetime format\n",
        "df['created_date'] = pd.to_datetime(df['created_date'])\n",
        "\n",
        "# filtered dataframe to account for groups created in only October 2024\n",
        "oct24group = df[\n",
        "    (df['created_date'].dt.year == 2024) &\n",
        "    (df['created_date'].dt.month == 10)]\n",
        "\n",
        "# found the average amount of participants in whatsapp groups created in October 2024\n",
        "avgparticipants = oct24group['participant_count'].mean()\n",
        "\n",
        "print(avgparticipants)"
      ],
      "metadata": {
        "id": "BzDx7YuQY5Wx"
      },
      "execution_count": null,
      "outputs": []
    },
    {
      "cell_type": "markdown",
      "source": [
        "**Business Impact**\n",
        "\n",
        " The average amount of participants in groups that matched all the requirements is 58.75. This implies the most common use for WhatsApp is groups made for medium sized communities (classes, clubs, etc).\n",
        "\n",
        " An actionable recommendation is to focus on developing features that benefit close knit groups such as polls, in-app games, etc. These add quality of life functionality that would make WhatsApp stand out as the best choice for these groups.\n",
        "\n"
      ],
      "metadata": {
        "id": "HKrkXMSuvEP0"
      }
    },
    {
      "cell_type": "markdown",
      "source": [
        "\n",
        "\n",
        "---\n",
        "\n"
      ],
      "metadata": {
        "id": "5mcqwpFTuRYR"
      }
    },
    {
      "cell_type": "markdown",
      "source": [
        "Question Three - WhatsApp (Easy)\n",
        "\n",
        "`Question` - For WhatsApp groups with more than 50 participants that were created in October 2024, what is the average number of messages sent? This insight will help assess engagement in larger groups and support recommendations for group messaging features.\n",
        "\n",
        "\n",
        "`Table` - **dim_groups**(group_id, created_date, participant_count, total_messages)\n",
        "\n",
        "`Result` - the average number of messages is 430"
      ],
      "metadata": {
        "id": "U4HYjVFiaoBy"
      }
    },
    {
      "cell_type": "code",
      "source": [
        "# created dataframe\n",
        "df = pd.DataFrame(dim_groups)\n",
        "\n",
        "# ensured date column was in datetime format\n",
        "df['created_date'] = pd.to_datetime(df['created_date'])\n",
        "\n",
        "# filtered dataframe to account for groups created in only October 2024\n",
        "oct24group = df[\n",
        "    (df['created_date'].dt.year == 2024) &\n",
        "    (df['created_date'].dt.month == 10)]\n",
        "\n",
        "# filtered the filtered group to only account for whatsapp groups with 50 participants\n",
        "morethan50group = oct24group[oct24group['participant_count'] > 50]\n",
        "\n",
        "# found the average amount of messages in whatsapp groups with more than 50 participants that were created in October 2024\n",
        "avgmessages = morethan50group['total_messages'].mean()\n",
        "\n",
        "print(avgmessages)"
      ],
      "metadata": {
        "id": "Nj0RSzRXZsQF"
      },
      "execution_count": null,
      "outputs": []
    },
    {
      "cell_type": "markdown",
      "source": [
        "**Business Impact**\n",
        "\n",
        "With the average message count in the groups matching all the requirements being very high, that implies a very active userbase in larger groups. Most likely daily usage. With so many people in these groups, recommendations made would revolve around driving engagement.\n",
        "\n",
        "An actionable recommendation would be to make it easier to follow the conversation with features such as conversation threads and advanced search (search by who sent it, has: attachment, etc). These tools keep everyone up to date by allowing people to dive into the conversation at any time."
      ],
      "metadata": {
        "id": "gCQO7OyIxhza"
      }
    }
  ]
}