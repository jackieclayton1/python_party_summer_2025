{
  "nbformat": 4,
  "nbformat_minor": 0,
  "metadata": {
    "colab": {
      "provenance": [],
      "authorship_tag": "ABX9TyOc4TShLdkJwpqkeXqLJAKm",
      "include_colab_link": true
    },
    "kernelspec": {
      "name": "python3",
      "display_name": "Python 3"
    },
    "language_info": {
      "name": "python"
    }
  },
  "cells": [
    {
      "cell_type": "markdown",
      "metadata": {
        "id": "view-in-github",
        "colab_type": "text"
      },
      "source": [
        "<a href=\"https://colab.research.google.com/github/jackieclayton1/python_party_summer_2025/blob/main/day2pythonparty.ipynb\" target=\"_parent\"><img src=\"https://colab.research.google.com/assets/colab-badge.svg\" alt=\"Open In Colab\"/></a>"
      ]
    },
    {
      "cell_type": "markdown",
      "source": [
        "**Business Scenario**\n",
        "\n",
        "`Topic` - *Sponsored Posts Click Performance*\n",
        "\n",
        "You are a Product Analyst on the Amazon Sponsored Advertising team investigating sponsored product ad engagement across electronics categories. Your team wants to understand CTR variations to optimize targeted advertising strategies."
      ],
      "metadata": {
        "id": "ZpF_Mx2_WjSY"
      }
    },
    {
      "cell_type": "markdown",
      "source": [
        "\n",
        "\n",
        "---\n",
        "\n"
      ],
      "metadata": {
        "id": "4eOdR4jRWwrZ"
      }
    },
    {
      "cell_type": "markdown",
      "source": [
        "**Question One - Amazon (Medium)**\n",
        "\n",
        "`Question` - What is the average click-through rate (CTR) for sponsored product ads for each product category that contains the substring 'Electronics' in its name during October 2024? This analysis will help determine which electronics-related categories are performing optimally.\n",
        "\n",
        "`Table 1` - **fct_ad_performance**(ad_id, product_id, clicks, impressions, recorded_date)\n",
        "\n",
        "`Table 2` - **dim_product**(product_id, product_category, product_name)\n",
        "\n",
        "`Result` - product_category:\n",
        "\n",
        "Electronics & Gadgets      7.913043\n",
        "\n",
        "Electronics Accessories        10.0\n",
        "\n",
        "Electronics Appliances          5.0\n",
        "\n",
        "Electronics Gadgets            7.25\n",
        "\n",
        "Home Electronics           6.666667"
      ],
      "metadata": {
        "id": "yx93lEzgWxvT"
      }
    },
    {
      "cell_type": "code",
      "source": [
        "# left joined tables on product_id column in both tables to retain all columns from both tables\n",
        "mergedtables = pd.merge(fct_ad_performance, dim_product, on='product_id', how='left')\n",
        "\n",
        "# filtered for data exclusively within October 2024\n",
        "mergedtablesoct24 = mergedtables[\n",
        "    (mergedtables['recorded_date'].dt.month == 10) &\n",
        "    (mergedtables['recorded_date'].dt.year == 2024)]\n",
        "\n",
        "# filtered for data exclusively for 'Electronics' products\n",
        "mergedtablesoct24electronics = mergedtablesoct24[mergedtablesoct24['product_category'].str.contains('Electronics')]\n",
        "\n",
        "# calculated click through rate as a percentage within filtered data\n",
        "mergedtablesoct24electronics['ctr'] = (((mergedtablesoct24electronics['clicks']) / (mergedtablesoct24electronics['impressions'])) * 100)\n",
        "\n",
        "# calculated average click through rate per product category within filtered data\n",
        "averagecategoryctr = mergedtablesoct24electronics.groupby('product_category')['ctr'].mean()\n",
        "\n",
        "print(averagecategoryctr)"
      ],
      "metadata": {
        "id": "XHQoTcuIXlJS"
      },
      "execution_count": null,
      "outputs": []
    },
    {
      "cell_type": "markdown",
      "source": [
        "**Business Impact**\n",
        "\n",
        "Electronics Accessories (10%), Electronics & Gadgets (7.91%), and Electronics Gadgets (7.25%) performed had the best click through rate while the other categories performed significantly behind.\n",
        "\n",
        "An actionable recommendation I have is to focus on the top 3 performing product categories and put more spending into their promotion. They are tried and true income generators."
      ],
      "metadata": {
        "id": "mriwbsZxXli5"
      }
    },
    {
      "cell_type": "markdown",
      "source": [
        "\n",
        "\n",
        "---\n",
        "\n"
      ],
      "metadata": {
        "id": "NHdMHPJFXS04"
      }
    },
    {
      "cell_type": "markdown",
      "source": [
        "**Question Two - Amazon (Medium)**\n",
        "\n",
        "`Question` - Which product categories have a CTR greater than the aggregated overall average CTR for sponsored product ads during October 2024? This analysis will identify high-performing categories for further optimization. For this question, we want to calculate CTR for each ad, then get the average across ads by product category & overall.\n",
        "\n",
        "`Table 1` - **fct_ad_performance**(ad_id, product_id, clicks, impressions, recorded_date)\n",
        "\n",
        "`Table 2` - **dim_product**(product_id, product_category, product_name)\n",
        "\n",
        "`Result` - product_category:\n",
        "\n",
        "Books                          10.0\n",
        "\n",
        "Electronics & Gadgets      7.913043\n",
        "\n",
        "Electronics Accessories        10.0\n",
        "\n",
        "Electronics Gadgets            7.25\n",
        "\n",
        "Kitchen                         7.0"
      ],
      "metadata": {
        "id": "HogghS03W6_D"
      }
    },
    {
      "cell_type": "code",
      "source": [
        "# left joined tables on product_id column in both tables to retain all columns from both tables\n",
        "mergedtables = pd.merge(fct_ad_performance, dim_product, on='product_id', how='left')\n",
        "\n",
        "# filtered for data exclusively within October 2024\n",
        "mergedtablesoct24 = mergedtables[\n",
        "    (mergedtables['recorded_date'].dt.month == 10) &\n",
        "    (mergedtables['recorded_date'].dt.year == 2024)]\n",
        "\n",
        "# calculated click through rate as a percentage within filtered data\n",
        "mergedtablesoct24['ctr'] = (((mergedtablesoct24['clicks']) / (mergedtablesoct24['impressions'])) * 100)\n",
        "\n",
        "# calculated average click through rate across all product categories within filtered data\n",
        "averagectr = mergedtablesoct24['ctr'].mean()\n",
        "\n",
        "# calculated average click through rate per product category within filtered data\n",
        "averagecategoryctr = mergedtablesoct24.groupby('product_category')['ctr'].mean()\n",
        "\n",
        "# identified product categories with above average click through rate\n",
        "highperformers = averagecategoryctr[averagecategoryctr > averagectr]\n",
        "\n",
        "print(highperformers)"
      ],
      "metadata": {
        "id": "usN-4Z1zXXoP"
      },
      "execution_count": null,
      "outputs": []
    },
    {
      "cell_type": "markdown",
      "source": [
        "**Business Impact**\n",
        "\n",
        "There were 5 categories to outperform the overall average click through rate, these being: books (10%), electronics accessories (10%), electronics & gadgets (7.91%), electronics gadgets (7.25%), and kitchen (7%). These are high performing, high interest categories.\n",
        "\n",
        "An actionable recommendation I have is to diversify the next ad campaign. While electronics are popular, so are books and kitchen items. Adding more emphasis on books and kitchen ads while maintaining the advertisement strategy for the aforementioned electronic categories is a surefire way to increase engagement and drive sales."
      ],
      "metadata": {
        "id": "yj9yyy8vXYvX"
      }
    },
    {
      "cell_type": "markdown",
      "source": [
        "\n",
        "\n",
        "---\n",
        "\n"
      ],
      "metadata": {
        "id": "1TZ4TWWEXUQG"
      }
    },
    {
      "cell_type": "markdown",
      "source": [
        "**Question Three - Amazon (Medium)**\n",
        "\n",
        "`Question` - For the product categories identified in the previous question, what is the percentage difference between their CTR and the overall average CTR for October 2024? This analysis will quantify the performance gap to recommend specific categories for targeted advertising optimization.\n",
        "\n",
        "`Table 1` - **fct_ad_performance**(ad_id, product_id, clicks, impressions, recorded_date)\n",
        "\n",
        "`Table 2` - **dim_product**(product_id, product_category, product_name)\n",
        "\n",
        "`Result` - product_category:\n",
        "\n",
        "Books                      46.961679\n",
        "\n",
        "Electronics & Gadgets      16.291416\n",
        "\n",
        "Electronics Accessories    46.961679\n",
        "\n",
        "Electronics Gadgets         6.547217\n",
        "\n",
        "Kitchen                     2.873175"
      ],
      "metadata": {
        "id": "rnZ06cYJW9wW"
      }
    },
    {
      "cell_type": "code",
      "source": [
        "# left joined tables on product_id column in both tables to retain all columns from both tables\n",
        "mergedtables = pd.merge(fct_ad_performance, dim_product, on='product_id', how='left')\n",
        "\n",
        "# filtered for data exclusively within October 2024\n",
        "mergedtablesoct24 = mergedtables[\n",
        "    (mergedtables['recorded_date'].dt.month == 10) &\n",
        "    (mergedtables['recorded_date'].dt.year == 2024)]\n",
        "\n",
        "# calculated click through rate as a percentage within filtered data\n",
        "mergedtablesoct24['ctr'] = (((mergedtablesoct24['clicks']) / (mergedtablesoct24['impressions'])) * 100)\n",
        "\n",
        "# calculated average click through rate across all product categories within filtered data\n",
        "averagectr = mergedtablesoct24['ctr'].mean()\n",
        "\n",
        "# calculated average click through rate per product category within filtered data\n",
        "averagecategoryctr = mergedtablesoct24.groupby('product_category')['ctr'].mean()\n",
        "\n",
        "# identified product categories with above average click through rate\n",
        "highperformers = averagecategoryctr[averagecategoryctr > averagectr]\n",
        "\n",
        "# calculated percent difference between high performing categories click through rate and the overall average click through rate\n",
        "highperformerspercentdiff = ((highperformers - averagectr) / averagectr * 100)\n",
        "\n",
        "print(highperformerspercentdiff)"
      ],
      "metadata": {
        "id": "UOiBPGIWf0HS"
      },
      "execution_count": null,
      "outputs": []
    },
    {
      "cell_type": "markdown",
      "source": [
        "**Business Impact**\n",
        "\n",
        "Books and Electronics Accessories lead click through rate percent difference by a significant margin, both 46% higher than average. These categories are extremely popular with customers.\n",
        "\n",
        "An actionable recommendation I have is to maximize return on investment by allocating more marketing money towards Books and Electronics Accessories. It is almost guaranteed to increase revenue based on the historical data."
      ],
      "metadata": {
        "id": "VSrw781JXs6l"
      }
    },
    {
      "cell_type": "markdown",
      "source": [
        "\n",
        "\n",
        "---\n",
        "\n"
      ],
      "metadata": {
        "id": "LB4TMJgjtj9k"
      }
    },
    {
      "cell_type": "markdown",
      "source": [
        "**Additional Insights**\n",
        "\n",
        "Electronics & Gadgets and Electronics Gadgets are very similarly named. Ensure these cannot be combined into one category because that changes all of the above calculations in a very significant way.\n",
        "\n",
        "If they cannot be combined, consider name changes for clarity. Complete Tech and Gadgets (larger items such as tvs) and Tech Essentials (smaller items such as phone chargers) are more direct and can help point customers to the items they're looking for and faster."
      ],
      "metadata": {
        "id": "ZdCptaiGtlTX"
      }
    }
  ]
}